{
 "cells": [
  {
   "cell_type": "markdown",
   "id": "f2de4a79",
   "metadata": {},
   "source": [
    "# Importar Dependecias"
   ]
  },
  {
   "cell_type": "code",
   "execution_count": 29,
   "id": "346a956a",
   "metadata": {
    "scrolled": true
   },
   "outputs": [],
   "source": [
    "import matplotlib\n",
    "matplotlib.use(\"Agg\")\n",
    "from tensorflow.keras.preprocessing.image import ImageDataGenerator\n",
    "from tensorflow.keras.layers import AveragePooling2D\n",
    "from tensorflow.keras.applications import ResNet50\n",
    "from tensorflow.keras.layers import Dropout\n",
    "from tensorflow.keras.layers import Flatten\n",
    "from tensorflow.keras.layers import Dense\n",
    "from tensorflow.keras.layers import Input\n",
    "from tensorflow.keras.models import Model\n",
    "from tensorflow.keras.optimizers import SGD\n",
    "from sklearn.preprocessing import LabelBinarizer\n",
    "from sklearn.model_selection import train_test_split\n",
    "from sklearn.metrics import classification_report\n",
    "from imutils import paths\n",
    "from glob import glob\n",
    "from tqdm import tqdm\n",
    "import matplotlib.pyplot as plt\n",
    "import numpy as np\n",
    "import pandas as pd\n",
    "import math \n",
    "import argparse\n",
    "import pickle\n",
    "import cv2\n",
    "import os"
   ]
  },
  {
   "cell_type": "markdown",
   "id": "714d3c73",
   "metadata": {},
   "source": [
    "# Cargar datos de entrenamiento"
   ]
  },
  {
   "cell_type": "code",
   "execution_count": 6,
   "id": "1713049e",
   "metadata": {},
   "outputs": [],
   "source": [
    "train = pd.read_csv(\"train.csv\")"
   ]
  },
  {
   "cell_type": "markdown",
   "id": "40d00f53",
   "metadata": {},
   "source": [
    "# Crear imagenes para entrenamiento\n",
    "Se cargan cada video y se genera un secuencia de images por **Frames** para realizar el entrenamiento de la red ResNet50, adicionalmente se crea un archivo *.csv* con las imagnes etiquetadas"
   ]
  },
  {
   "cell_type": "code",
   "execution_count": 7,
   "id": "7ae7d486",
   "metadata": {},
   "outputs": [
    {
     "name": "stderr",
     "output_type": "stream",
     "text": [
      "\r",
      "  0%|                                                                                                                                                                                    | 0/48 [00:00<?, ?it/s]"
     ]
    },
    {
     "name": "stdout",
     "output_type": "stream",
     "text": [
      "all_data/F_0_1_0_0_0.mp4\n"
     ]
    },
    {
     "name": "stderr",
     "output_type": "stream",
     "text": [
      "\r",
      "  2%|███▌                                                                                                                                                                        | 1/48 [00:02<02:01,  2.59s/it]"
     ]
    },
    {
     "name": "stdout",
     "output_type": "stream",
     "text": [
      "all_data/F_1_0_1_0_1.mp4\n"
     ]
    },
    {
     "name": "stderr",
     "output_type": "stream",
     "text": [
      "\r",
      "  4%|███████▏                                                                                                                                                                    | 2/48 [00:02<00:54,  1.19s/it]"
     ]
    },
    {
     "name": "stdout",
     "output_type": "stream",
     "text": [
      "all_data/F_2_1_2_0_0.mp4\n"
     ]
    },
    {
     "name": "stderr",
     "output_type": "stream",
     "text": [
      "\r",
      "  6%|██████████▊                                                                                                                                                                 | 3/48 [00:03<00:43,  1.03it/s]"
     ]
    },
    {
     "name": "stdout",
     "output_type": "stream",
     "text": [
      "all_data/F_3_1_0_0_0.mp4\n"
     ]
    },
    {
     "name": "stderr",
     "output_type": "stream",
     "text": [
      "\r",
      "  8%|██████████████▎                                                                                                                                                             | 4/48 [00:04<00:48,  1.11s/it]"
     ]
    },
    {
     "name": "stdout",
     "output_type": "stream",
     "text": [
      "all_data/F_4_0_0_0_0.mp4\n"
     ]
    },
    {
     "name": "stderr",
     "output_type": "stream",
     "text": [
      "\r",
      " 10%|█████████████████▉                                                                                                                                                          | 5/48 [00:05<00:45,  1.05s/it]"
     ]
    },
    {
     "name": "stdout",
     "output_type": "stream",
     "text": [
      "all_data/F_5_1_2_0_0.mp4\n"
     ]
    },
    {
     "name": "stderr",
     "output_type": "stream",
     "text": [
      "\r",
      " 12%|█████████████████████▌                                                                                                                                                      | 6/48 [00:06<00:41,  1.01it/s]"
     ]
    },
    {
     "name": "stdout",
     "output_type": "stream",
     "text": [
      "all_data/F_6_1_2_0_0.mp4\n"
     ]
    },
    {
     "name": "stderr",
     "output_type": "stream",
     "text": [
      "\r",
      " 15%|█████████████████████████                                                                                                                                                   | 7/48 [00:07<00:36,  1.13it/s]"
     ]
    },
    {
     "name": "stdout",
     "output_type": "stream",
     "text": [
      "all_data/F_7_0_0_0_0.mp4\n"
     ]
    },
    {
     "name": "stderr",
     "output_type": "stream",
     "text": [
      " 19%|████████████████████████████████▎                                                                                                                                           | 9/48 [00:09<00:32,  1.19it/s]"
     ]
    },
    {
     "name": "stdout",
     "output_type": "stream",
     "text": [
      "all_data/F_8_1_0_0_0.mp4\n",
      "all_data/F_9_1_2_0_0.mp4\n"
     ]
    },
    {
     "name": "stderr",
     "output_type": "stream",
     "text": [
      "\r",
      " 21%|███████████████████████████████████▋                                                                                                                                       | 10/48 [00:09<00:29,  1.28it/s]"
     ]
    },
    {
     "name": "stdout",
     "output_type": "stream",
     "text": [
      "all_data/N_0_0_0_1_0.mp4\n"
     ]
    },
    {
     "name": "stderr",
     "output_type": "stream",
     "text": [
      "\r",
      " 23%|███████████████████████████████████████▏                                                                                                                                   | 11/48 [00:10<00:29,  1.24it/s]"
     ]
    },
    {
     "name": "stdout",
     "output_type": "stream",
     "text": [
      "all_data/N_1_1_0_1_0.mp4\n"
     ]
    },
    {
     "name": "stderr",
     "output_type": "stream",
     "text": [
      "\r",
      " 25%|██████████████████████████████████████████▊                                                                                                                                | 12/48 [00:11<00:29,  1.23it/s]"
     ]
    },
    {
     "name": "stdout",
     "output_type": "stream",
     "text": [
      "all_data/N_2_1_0_1_0.mp4\n"
     ]
    },
    {
     "name": "stderr",
     "output_type": "stream",
     "text": [
      "\r",
      " 27%|██████████████████████████████████████████████▎                                                                                                                            | 13/48 [00:12<00:26,  1.30it/s]"
     ]
    },
    {
     "name": "stdout",
     "output_type": "stream",
     "text": [
      "all_data/N_3_0_0_1_0.mp4\n"
     ]
    },
    {
     "name": "stderr",
     "output_type": "stream",
     "text": [
      "\r",
      " 29%|█████████████████████████████████████████████████▉                                                                                                                         | 14/48 [00:14<00:41,  1.21s/it]"
     ]
    },
    {
     "name": "stdout",
     "output_type": "stream",
     "text": [
      "all_data/N_4_1_0_1_0.mp4\n"
     ]
    },
    {
     "name": "stderr",
     "output_type": "stream",
     "text": [
      "\r",
      " 31%|█████████████████████████████████████████████████████▍                                                                                                                     | 15/48 [00:15<00:35,  1.06s/it]"
     ]
    },
    {
     "name": "stdout",
     "output_type": "stream",
     "text": [
      "all_data/N_5_0_0_1_0.mp4\n"
     ]
    },
    {
     "name": "stderr",
     "output_type": "stream",
     "text": [
      "\r",
      " 33%|█████████████████████████████████████████████████████████                                                                                                                  | 16/48 [00:15<00:31,  1.03it/s]"
     ]
    },
    {
     "name": "stdout",
     "output_type": "stream",
     "text": [
      "all_data/N_6_0_0_1_0.mp4\n"
     ]
    },
    {
     "name": "stderr",
     "output_type": "stream",
     "text": [
      "\r",
      " 35%|████████████████████████████████████████████████████████████▌                                                                                                              | 17/48 [00:16<00:23,  1.30it/s]"
     ]
    },
    {
     "name": "stdout",
     "output_type": "stream",
     "text": [
      "all_data/N_7_0_0_1_0.mp4\n"
     ]
    },
    {
     "name": "stderr",
     "output_type": "stream",
     "text": [
      "\r",
      " 38%|████████████████████████████████████████████████████████████████▏                                                                                                          | 18/48 [00:17<00:24,  1.22it/s]"
     ]
    },
    {
     "name": "stdout",
     "output_type": "stream",
     "text": [
      "all_data/N_8_1_0_1_0.mp4\n"
     ]
    },
    {
     "name": "stderr",
     "output_type": "stream",
     "text": [
      "\r",
      " 40%|███████████████████████████████████████████████████████████████████▋                                                                                                       | 19/48 [00:17<00:23,  1.22it/s]"
     ]
    },
    {
     "name": "stdout",
     "output_type": "stream",
     "text": [
      "all_data/N_9_0_0_1_0.mp4\n"
     ]
    },
    {
     "name": "stderr",
     "output_type": "stream",
     "text": [
      "\r",
      " 42%|███████████████████████████████████████████████████████████████████████▎                                                                                                   | 20/48 [00:18<00:22,  1.27it/s]"
     ]
    },
    {
     "name": "stdout",
     "output_type": "stream",
     "text": [
      "all_data/N_16_1_0_1_0.mp4\n"
     ]
    },
    {
     "name": "stderr",
     "output_type": "stream",
     "text": [
      "\r",
      " 44%|██████████████████████████████████████████████████████████████████████████▊                                                                                                | 21/48 [00:19<00:21,  1.23it/s]"
     ]
    },
    {
     "name": "stdout",
     "output_type": "stream",
     "text": [
      "all_data/N_15_0_0_1_0.mp4\n"
     ]
    },
    {
     "name": "stderr",
     "output_type": "stream",
     "text": [
      "\r",
      " 46%|██████████████████████████████████████████████████████████████████████████████▍                                                                                            | 22/48 [00:19<00:17,  1.49it/s]"
     ]
    },
    {
     "name": "stdout",
     "output_type": "stream",
     "text": [
      "all_data/N_14_1_0_1_0.mp4\n"
     ]
    },
    {
     "name": "stderr",
     "output_type": "stream",
     "text": [
      "\r",
      " 48%|█████████████████████████████████████████████████████████████████████████████████▉                                                                                         | 23/48 [00:20<00:14,  1.76it/s]"
     ]
    },
    {
     "name": "stdout",
     "output_type": "stream",
     "text": [
      "all_data/N_13_0_0_1_0.mp4\n"
     ]
    },
    {
     "name": "stderr",
     "output_type": "stream",
     "text": [
      "\r",
      " 50%|█████████████████████████████████████████████████████████████████████████████████████▌                                                                                     | 24/48 [00:21<00:18,  1.28it/s]"
     ]
    },
    {
     "name": "stdout",
     "output_type": "stream",
     "text": [
      "all_data/N_12_0_0_1_0.mp4\n"
     ]
    },
    {
     "name": "stderr",
     "output_type": "stream",
     "text": [
      "\r",
      " 52%|█████████████████████████████████████████████████████████████████████████████████████████                                                                                  | 25/48 [00:22<00:18,  1.24it/s]"
     ]
    },
    {
     "name": "stdout",
     "output_type": "stream",
     "text": [
      "all_data/N_11_1_0_1_0.mp4\n"
     ]
    },
    {
     "name": "stderr",
     "output_type": "stream",
     "text": [
      "\r",
      " 54%|████████████████████████████████████████████████████████████████████████████████████████████▋                                                                              | 26/48 [00:23<00:17,  1.24it/s]"
     ]
    },
    {
     "name": "stdout",
     "output_type": "stream",
     "text": [
      "all_data/N_10_0_0_1_0.mp4\n"
     ]
    },
    {
     "name": "stderr",
     "output_type": "stream",
     "text": [
      "\r",
      " 56%|████████████████████████████████████████████████████████████████████████████████████████████████▏                                                                          | 27/48 [00:24<00:17,  1.19it/s]"
     ]
    },
    {
     "name": "stdout",
     "output_type": "stream",
     "text": [
      "all_data/F_10_0_0_0_0.mp4\n"
     ]
    },
    {
     "name": "stderr",
     "output_type": "stream",
     "text": [
      "\r",
      " 58%|███████████████████████████████████████████████████████████████████████████████████████████████████▊                                                                       | 28/48 [00:24<00:17,  1.17it/s]"
     ]
    },
    {
     "name": "stdout",
     "output_type": "stream",
     "text": [
      "all_data/F_11_0_2_0_0.mp4\n"
     ]
    },
    {
     "name": "stderr",
     "output_type": "stream",
     "text": [
      "\r",
      " 60%|███████████████████████████████████████████████████████████████████████████████████████████████████████▎                                                                   | 29/48 [00:26<00:19,  1.03s/it]"
     ]
    },
    {
     "name": "stdout",
     "output_type": "stream",
     "text": [
      "all_data/F_12_1_0_0_0.mp4\n"
     ]
    },
    {
     "name": "stderr",
     "output_type": "stream",
     "text": [
      "\r",
      " 62%|██████████████████████████████████████████████████████████████████████████████████████████████████████████▉                                                                | 30/48 [00:27<00:18,  1.05s/it]"
     ]
    },
    {
     "name": "stdout",
     "output_type": "stream",
     "text": [
      "all_data/F_13_1_2_0_0.mp4\n"
     ]
    },
    {
     "name": "stderr",
     "output_type": "stream",
     "text": [
      "\r",
      " 65%|██████████████████████████████████████████████████████████████████████████████████████████████████████████████▍                                                            | 31/48 [00:29<00:22,  1.30s/it]"
     ]
    },
    {
     "name": "stdout",
     "output_type": "stream",
     "text": [
      "all_data/F_14_0_0_0_0.mp4\n"
     ]
    },
    {
     "name": "stderr",
     "output_type": "stream",
     "text": [
      "\r",
      " 67%|██████████████████████████████████████████████████████████████████████████████████████████████████████████████████                                                         | 32/48 [00:30<00:22,  1.38s/it]"
     ]
    },
    {
     "name": "stdout",
     "output_type": "stream",
     "text": [
      "all_data/F_15_0_0_0_0.mp4\n"
     ]
    },
    {
     "name": "stderr",
     "output_type": "stream",
     "text": [
      "\r",
      " 69%|█████████████████████████████████████████████████████████████████████████████████████████████████████████████████████▌                                                     | 33/48 [00:32<00:22,  1.52s/it]"
     ]
    },
    {
     "name": "stdout",
     "output_type": "stream",
     "text": [
      "all_data/F_16_1_2_0_0.mp4\n"
     ]
    },
    {
     "name": "stderr",
     "output_type": "stream",
     "text": [
      "\r",
      " 71%|█████████████████████████████████████████████████████████████████████████████████████████████████████████████████████████▏                                                 | 34/48 [00:34<00:23,  1.66s/it]"
     ]
    },
    {
     "name": "stdout",
     "output_type": "stream",
     "text": [
      "all_data/N_17_0_0_1_0.mp4\n"
     ]
    },
    {
     "name": "stderr",
     "output_type": "stream",
     "text": [
      "\r",
      " 73%|████████████████████████████████████████████████████████████████████████████████████████████████████████████████████████████▋                                              | 35/48 [00:35<00:18,  1.41s/it]"
     ]
    },
    {
     "name": "stdout",
     "output_type": "stream",
     "text": [
      "all_data/N_18_0_0_1_0.mp4\n"
     ]
    },
    {
     "name": "stderr",
     "output_type": "stream",
     "text": [
      "\r",
      " 75%|████████████████████████████████████████████████████████████████████████████████████████████████████████████████████████████████▎                                          | 36/48 [00:38<00:22,  1.87s/it]"
     ]
    },
    {
     "name": "stdout",
     "output_type": "stream",
     "text": [
      "all_data/N_19_0_0_1_0.mp4\n"
     ]
    },
    {
     "name": "stderr",
     "output_type": "stream",
     "text": [
      "\r",
      " 77%|███████████████████████████████████████████████████████████████████████████████████████████████████████████████████████████████████▊                                       | 37/48 [00:39<00:16,  1.54s/it]"
     ]
    },
    {
     "name": "stdout",
     "output_type": "stream",
     "text": [
      "all_data/F_19_1_1_0_0.mp4\n"
     ]
    },
    {
     "name": "stderr",
     "output_type": "stream",
     "text": [
      "\r",
      " 79%|███████████████████████████████████████████████████████████████████████████████████████████████████████████████████████████████████████▍                                   | 38/48 [00:40<00:13,  1.31s/it]"
     ]
    },
    {
     "name": "stdout",
     "output_type": "stream",
     "text": [
      "all_data/F_18_0_1_0_1.mp4\n"
     ]
    },
    {
     "name": "stderr",
     "output_type": "stream",
     "text": [
      "\r",
      " 81%|██████████████████████████████████████████████████████████████████████████████████████████████████████████████████████████████████████████▉                                | 39/48 [00:40<00:09,  1.01s/it]"
     ]
    },
    {
     "name": "stdout",
     "output_type": "stream",
     "text": [
      "all_data/F_17_1_0_0_1.mp4\n"
     ]
    },
    {
     "name": "stderr",
     "output_type": "stream",
     "text": [
      "\r",
      " 83%|██████████████████████████████████████████████████████████████████████████████████████████████████████████████████████████████████████████████▌                            | 40/48 [00:40<00:06,  1.17it/s]"
     ]
    },
    {
     "name": "stdout",
     "output_type": "stream",
     "text": [
      "all_data/F_20_1_1_0_0.mp4\n"
     ]
    },
    {
     "name": "stderr",
     "output_type": "stream",
     "text": [
      "\r",
      " 85%|██████████████████████████████████████████████████████████████████████████████████████████████████████████████████████████████████████████████████                         | 41/48 [00:41<00:05,  1.30it/s]"
     ]
    },
    {
     "name": "stdout",
     "output_type": "stream",
     "text": [
      "all_data/F_21_0_0_0_0.mp4\n"
     ]
    },
    {
     "name": "stderr",
     "output_type": "stream",
     "text": [
      "\r",
      " 88%|█████████████████████████████████████████████████████████████████████████████████████████████████████████████████████████████████████████████████████▋                     | 42/48 [00:42<00:04,  1.33it/s]"
     ]
    },
    {
     "name": "stdout",
     "output_type": "stream",
     "text": [
      "all_data/F_22_1_1_0_1.mp4\n"
     ]
    },
    {
     "name": "stderr",
     "output_type": "stream",
     "text": [
      "\r",
      " 90%|█████████████████████████████████████████████████████████████████████████████████████████████████████████████████████████████████████████████████████████▏                 | 43/48 [00:43<00:04,  1.19it/s]"
     ]
    },
    {
     "name": "stdout",
     "output_type": "stream",
     "text": [
      "all_data/F_23_0_0_0_0.mp4\n"
     ]
    },
    {
     "name": "stderr",
     "output_type": "stream",
     "text": [
      "\r",
      " 92%|████████████████████████████████████████████████████████████████████████████████████████████████████████████████████████████████████████████████████████████▊              | 44/48 [00:44<00:03,  1.07it/s]"
     ]
    },
    {
     "name": "stdout",
     "output_type": "stream",
     "text": [
      "all_data/F_24_1_0_0_0.mp4\n"
     ]
    },
    {
     "name": "stderr",
     "output_type": "stream",
     "text": [
      "\r",
      " 94%|████████████████████████████████████████████████████████████████████████████████████████████████████████████████████████████████████████████████████████████████▎          | 45/48 [00:44<00:02,  1.21it/s]"
     ]
    },
    {
     "name": "stdout",
     "output_type": "stream",
     "text": [
      "all_data/F_25_1_2_0_0.mp4\n"
     ]
    },
    {
     "name": "stderr",
     "output_type": "stream",
     "text": [
      "\r",
      " 96%|███████████████████████████████████████████████████████████████████████████████████████████████████████████████████████████████████████████████████████████████████▉       | 46/48 [00:45<00:01,  1.29it/s]"
     ]
    },
    {
     "name": "stdout",
     "output_type": "stream",
     "text": [
      "all_data/F_26_1_2_0_0.mp4\n"
     ]
    },
    {
     "name": "stderr",
     "output_type": "stream",
     "text": [
      "\r",
      " 98%|███████████████████████████████████████████████████████████████████████████████████████████████████████████████████████████████████████████████████████████████████████▍   | 47/48 [00:46<00:00,  1.37it/s]"
     ]
    },
    {
     "name": "stdout",
     "output_type": "stream",
     "text": [
      "all_data/F_28_0_0_0_0.mp4\n"
     ]
    },
    {
     "name": "stderr",
     "output_type": "stream",
     "text": [
      "100%|███████████████████████████████████████████████████████████████████████████████████████████████████████████████████████████████████████████████████████████████████████████| 48/48 [00:46<00:00,  1.02it/s]\n"
     ]
    }
   ],
   "source": [
    "train_image = []\n",
    "train_class = []\n",
    "for i in tqdm(range(train.shape[0])):\n",
    "    count = 0\n",
    "    count_2 = 0\n",
    "    videoFile = train['video_name'][i]\n",
    "    class_video = train['tag'][i]\n",
    "    path = 'all_data/'+videoFile\n",
    "    print(path)\n",
    "    cap = cv2.VideoCapture(path) \n",
    "    frameRate = cap.get(5)\n",
    "    x=1\n",
    "    while(cap.isOpened()):\n",
    "        frameId = cap.get(1)\n",
    "        ret, frame = cap.read()\n",
    "        if (ret != True):\n",
    "            break\n",
    "        if (frameId % math.floor(frameRate) == 0):\n",
    "            nameFile = videoFile +\"__frame%d.jpg\" % count\n",
    "            train_image.append(nameFile)\n",
    "            train_class.append(class_video)\n",
    "            filename ='train_images/'+videoFile +\"__frame%d.jpg\" % count;count+=1\n",
    "            cv2.imwrite(filename, frame)\n",
    "    cap.release()\n",
    "train_data = pd.DataFrame()\n",
    "train_data['image'] = train_image\n",
    "train_data['label'] = train_class\n",
    "train_data.to_csv('train_new.csv',header=True, index=False)"
   ]
  },
  {
   "cell_type": "code",
   "execution_count": 8,
   "id": "3c07aeb2",
   "metadata": {},
   "outputs": [
    {
     "data": {
      "text/html": [
       "<div>\n",
       "<style scoped>\n",
       "    .dataframe tbody tr th:only-of-type {\n",
       "        vertical-align: middle;\n",
       "    }\n",
       "\n",
       "    .dataframe tbody tr th {\n",
       "        vertical-align: top;\n",
       "    }\n",
       "\n",
       "    .dataframe thead th {\n",
       "        text-align: right;\n",
       "    }\n",
       "</style>\n",
       "<table border=\"1\" class=\"dataframe\">\n",
       "  <thead>\n",
       "    <tr style=\"text-align: right;\">\n",
       "      <th></th>\n",
       "      <th>image</th>\n",
       "      <th>label</th>\n",
       "    </tr>\n",
       "  </thead>\n",
       "  <tbody>\n",
       "    <tr>\n",
       "      <th>0</th>\n",
       "      <td>F_0_1_0_0_0.mp4__frame0.jpg</td>\n",
       "      <td>fight</td>\n",
       "    </tr>\n",
       "    <tr>\n",
       "      <th>1</th>\n",
       "      <td>F_0_1_0_0_0.mp4__frame1.jpg</td>\n",
       "      <td>fight</td>\n",
       "    </tr>\n",
       "    <tr>\n",
       "      <th>2</th>\n",
       "      <td>F_0_1_0_0_0.mp4__frame2.jpg</td>\n",
       "      <td>fight</td>\n",
       "    </tr>\n",
       "    <tr>\n",
       "      <th>3</th>\n",
       "      <td>F_0_1_0_0_0.mp4__frame3.jpg</td>\n",
       "      <td>fight</td>\n",
       "    </tr>\n",
       "    <tr>\n",
       "      <th>4</th>\n",
       "      <td>F_0_1_0_0_0.mp4__frame4.jpg</td>\n",
       "      <td>fight</td>\n",
       "    </tr>\n",
       "  </tbody>\n",
       "</table>\n",
       "</div>"
      ],
      "text/plain": [
       "                         image  label\n",
       "0  F_0_1_0_0_0.mp4__frame0.jpg  fight\n",
       "1  F_0_1_0_0_0.mp4__frame1.jpg  fight\n",
       "2  F_0_1_0_0_0.mp4__frame2.jpg  fight\n",
       "3  F_0_1_0_0_0.mp4__frame3.jpg  fight\n",
       "4  F_0_1_0_0_0.mp4__frame4.jpg  fight"
      ]
     },
     "execution_count": 8,
     "metadata": {},
     "output_type": "execute_result"
    }
   ],
   "source": [
    "pathImages = pd.read_csv(\"train_new.csv\")\n",
    "pathImages.head()"
   ]
  },
  {
   "cell_type": "markdown",
   "id": "2f638bb2",
   "metadata": {},
   "source": [
    "# Preprocesando las imagenes"
   ]
  },
  {
   "cell_type": "code",
   "execution_count": 9,
   "id": "5cd6d84b",
   "metadata": {},
   "outputs": [
    {
     "name": "stdout",
     "output_type": "stream",
     "text": [
      "[INFO] loading images...\n"
     ]
    },
    {
     "name": "stderr",
     "output_type": "stream",
     "text": [
      "100%|███████████████████████████████████████████████████████████████████████████████████████████████████████████████████████████████████████████████████████████████████████| 1478/1478 [00:18<00:00, 78.63it/s]\n"
     ]
    }
   ],
   "source": [
    "from keras.utils import load_img, img_to_array\n",
    "print(\"[INFO] loading images...\")\n",
    "data = []\n",
    "labels = []\n",
    "for i in tqdm(range(pathImages.shape[0])):\n",
    "    path = 'train_images/'+pathImages['image'][i]\n",
    "    label = pathImages['label'][i]            \n",
    "    image = cv2.imread(path)\n",
    "    image = cv2.cvtColor(image, cv2.COLOR_BGR2RGB)\n",
    "    image = cv2.resize(image, (224, 224))\n",
    "    data.append(image)\n",
    "    labels.append(label)"
   ]
  },
  {
   "cell_type": "code",
   "execution_count": 14,
   "id": "0502c3ef",
   "metadata": {},
   "outputs": [],
   "source": [
    "data = np.array(data)\n",
    "labels = np.array(labels)"
   ]
  },
  {
   "cell_type": "code",
   "execution_count": 15,
   "id": "04142013",
   "metadata": {},
   "outputs": [],
   "source": [
    "lb = LabelBinarizer()\n",
    "labels = lb.fit_transform(labels)"
   ]
  },
  {
   "cell_type": "markdown",
   "id": "7b8a8e68",
   "metadata": {},
   "source": [
    "Se divide el set de imagenes en train y test "
   ]
  },
  {
   "cell_type": "code",
   "execution_count": 16,
   "id": "21e9f85b",
   "metadata": {},
   "outputs": [],
   "source": [
    "(trainX, testX, trainY, testY) = train_test_split(data, labels, test_size=0.2, stratify=labels, random_state=42)"
   ]
  },
  {
   "cell_type": "code",
   "execution_count": 17,
   "id": "cda266b2",
   "metadata": {},
   "outputs": [],
   "source": [
    "trainAug = ImageDataGenerator(\n",
    "    rotation_range=30,\n",
    "    zoom_range=0.15,\n",
    "    width_shift_range=0.2,\n",
    "    height_shift_range=0.2,\n",
    "    shear_range=0.15,\n",
    "    horizontal_flip=True,\n",
    "    fill_mode=\"nearest\")\n",
    "valAug = ImageDataGenerator()\n",
    "mean = np.array([123.68, 116.779, 103.939], dtype=\"float32\")\n",
    "trainAug.mean = mean\n",
    "valAug.mean = mean"
   ]
  },
  {
   "cell_type": "code",
   "execution_count": 10,
   "id": "03bbec96",
   "metadata": {},
   "outputs": [
    {
     "name": "stderr",
     "output_type": "stream",
     "text": [
      "2022-06-08 22:46:49.982509: I tensorflow/stream_executor/cuda/cuda_gpu_executor.cc:975] successful NUMA node read from SysFS had negative value (-1), but there must be at least one NUMA node, so returning NUMA node zero\n",
      "2022-06-08 22:46:49.983406: W tensorflow/stream_executor/platform/default/dso_loader.cc:64] Could not load dynamic library 'libcudart.so.11.0'; dlerror: libcudart.so.11.0: cannot open shared object file: No such file or directory; LD_LIBRARY_PATH: /home/stiven/python/python/lib/python3.8/site-packages/cv2/../../lib64:\n",
      "2022-06-08 22:46:49.983535: W tensorflow/stream_executor/platform/default/dso_loader.cc:64] Could not load dynamic library 'libcublas.so.11'; dlerror: libcublas.so.11: cannot open shared object file: No such file or directory; LD_LIBRARY_PATH: /home/stiven/python/python/lib/python3.8/site-packages/cv2/../../lib64:\n",
      "2022-06-08 22:46:49.983688: W tensorflow/stream_executor/platform/default/dso_loader.cc:64] Could not load dynamic library 'libcublasLt.so.11'; dlerror: libcublasLt.so.11: cannot open shared object file: No such file or directory; LD_LIBRARY_PATH: /home/stiven/python/python/lib/python3.8/site-packages/cv2/../../lib64:\n",
      "2022-06-08 22:46:49.983806: W tensorflow/stream_executor/platform/default/dso_loader.cc:64] Could not load dynamic library 'libcufft.so.10'; dlerror: libcufft.so.10: cannot open shared object file: No such file or directory; LD_LIBRARY_PATH: /home/stiven/python/python/lib/python3.8/site-packages/cv2/../../lib64:\n",
      "2022-06-08 22:46:49.983923: W tensorflow/stream_executor/platform/default/dso_loader.cc:64] Could not load dynamic library 'libcurand.so.10'; dlerror: libcurand.so.10: cannot open shared object file: No such file or directory; LD_LIBRARY_PATH: /home/stiven/python/python/lib/python3.8/site-packages/cv2/../../lib64:\n",
      "2022-06-08 22:46:49.984037: W tensorflow/stream_executor/platform/default/dso_loader.cc:64] Could not load dynamic library 'libcusolver.so.11'; dlerror: libcusolver.so.11: cannot open shared object file: No such file or directory; LD_LIBRARY_PATH: /home/stiven/python/python/lib/python3.8/site-packages/cv2/../../lib64:\n",
      "2022-06-08 22:46:49.984152: W tensorflow/stream_executor/platform/default/dso_loader.cc:64] Could not load dynamic library 'libcusparse.so.11'; dlerror: libcusparse.so.11: cannot open shared object file: No such file or directory; LD_LIBRARY_PATH: /home/stiven/python/python/lib/python3.8/site-packages/cv2/../../lib64:\n",
      "2022-06-08 22:46:49.984269: W tensorflow/stream_executor/platform/default/dso_loader.cc:64] Could not load dynamic library 'libcudnn.so.8'; dlerror: libcudnn.so.8: cannot open shared object file: No such file or directory; LD_LIBRARY_PATH: /home/stiven/python/python/lib/python3.8/site-packages/cv2/../../lib64:\n",
      "2022-06-08 22:46:49.984286: W tensorflow/core/common_runtime/gpu/gpu_device.cc:1850] Cannot dlopen some GPU libraries. Please make sure the missing libraries mentioned above are installed properly if you would like to use GPU. Follow the guide at https://www.tensorflow.org/install/gpu for how to download and setup the required libraries for your platform.\n",
      "Skipping registering GPU devices...\n",
      "2022-06-08 22:46:49.984678: I tensorflow/core/platform/cpu_feature_guard.cc:193] This TensorFlow binary is optimized with oneAPI Deep Neural Network Library (oneDNN) to use the following CPU instructions in performance-critical operations:  AVX2 FMA\n",
      "To enable them in other operations, rebuild TensorFlow with the appropriate compiler flags.\n"
     ]
    }
   ],
   "source": [
    "baseModel = ResNet50(weights=\"imagenet\", include_top=False,\n",
    "    input_tensor=Input(shape=(224, 224, 3)))"
   ]
  },
  {
   "cell_type": "code",
   "execution_count": 11,
   "id": "5a7b464e",
   "metadata": {},
   "outputs": [],
   "source": [
    "headModel = baseModel.output\n",
    "headModel = AveragePooling2D(pool_size=(7, 7))(headModel)\n",
    "headModel = Flatten(name=\"flatten\")(headModel)\n",
    "headModel = Dense(512, activation=\"relu\")(headModel)\n",
    "headModel = Dropout(0.5)(headModel)\n",
    "headModel = Dense(len(lb.classes_), activation=\"softmax\")(headModel)\n",
    "model = Model(inputs=baseModel.input, outputs=headModel)\n",
    "for layer in baseModel.layers:\n",
    "    layer.trainable = False"
   ]
  },
  {
   "cell_type": "markdown",
   "id": "5652cf3b",
   "metadata": {},
   "source": [
    "# Entrenamiento del modelo "
   ]
  },
  {
   "cell_type": "code",
   "execution_count": 16,
   "id": "05e28cd0",
   "metadata": {},
   "outputs": [
    {
     "name": "stdout",
     "output_type": "stream",
     "text": [
      "[NFO] compiling model...\n",
      "[INFO] training head...\n",
      "Epoch 1/30\n",
      "36/36 [==============================] - 81s 2s/step - loss: 0.0126 - accuracy: 0.4905 - val_loss: 0.0128 - val_accuracy: 0.4688\n",
      "Epoch 2/30\n",
      "36/36 [==============================] - 82s 2s/step - loss: 0.0151 - accuracy: 0.5043 - val_loss: 0.0151 - val_accuracy: 0.4896\n",
      "Epoch 3/30\n",
      "36/36 [==============================] - 83s 2s/step - loss: 0.0070 - accuracy: 0.5261 - val_loss: 0.0131 - val_accuracy: 0.4896\n",
      "Epoch 4/30\n",
      "36/36 [==============================] - 83s 2s/step - loss: 0.0067 - accuracy: 0.5165 - val_loss: 0.0142 - val_accuracy: 0.4618\n",
      "Epoch 5/30\n",
      "36/36 [==============================] - 83s 2s/step - loss: 0.0102 - accuracy: 0.5043 - val_loss: 0.0115 - val_accuracy: 0.4688\n",
      "Epoch 6/30\n",
      "36/36 [==============================] - 83s 2s/step - loss: 0.0082 - accuracy: 0.5043 - val_loss: 0.0135 - val_accuracy: 0.4965\n",
      "Epoch 7/30\n",
      "36/36 [==============================] - 83s 2s/step - loss: 0.0109 - accuracy: 0.5209 - val_loss: 0.0109 - val_accuracy: 0.5694\n",
      "Epoch 8/30\n",
      "36/36 [==============================] - 84s 2s/step - loss: 0.0085 - accuracy: 0.5557 - val_loss: 0.0110 - val_accuracy: 0.5069\n",
      "Epoch 9/30\n",
      "36/36 [==============================] - 84s 2s/step - loss: 0.0089 - accuracy: 0.5357 - val_loss: 0.0163 - val_accuracy: 0.3958\n",
      "Epoch 10/30\n",
      "36/36 [==============================] - 83s 2s/step - loss: 0.0081 - accuracy: 0.4765 - val_loss: 0.0124 - val_accuracy: 0.4236\n",
      "Epoch 11/30\n",
      "36/36 [==============================] - 84s 2s/step - loss: 0.0092 - accuracy: 0.4930 - val_loss: 0.0138 - val_accuracy: 0.4410\n",
      "Epoch 12/30\n",
      "36/36 [==============================] - 84s 2s/step - loss: 0.0072 - accuracy: 0.4870 - val_loss: 0.0135 - val_accuracy: 0.4097\n",
      "Epoch 13/30\n",
      "36/36 [==============================] - 84s 2s/step - loss: 0.0067 - accuracy: 0.4878 - val_loss: 0.0116 - val_accuracy: 0.3958\n",
      "Epoch 14/30\n",
      "36/36 [==============================] - 84s 2s/step - loss: 0.0087 - accuracy: 0.4861 - val_loss: 0.0096 - val_accuracy: 0.4549\n",
      "Epoch 15/30\n",
      "36/36 [==============================] - 83s 2s/step - loss: 0.0070 - accuracy: 0.4678 - val_loss: 0.0097 - val_accuracy: 0.4514\n",
      "Epoch 16/30\n",
      "36/36 [==============================] - 84s 2s/step - loss: 0.0095 - accuracy: 0.5209 - val_loss: 0.0137 - val_accuracy: 0.5382\n",
      "Epoch 17/30\n",
      "36/36 [==============================] - 83s 2s/step - loss: 0.0077 - accuracy: 0.5017 - val_loss: 0.0059 - val_accuracy: 0.4688\n",
      "Epoch 18/30\n",
      "36/36 [==============================] - 85s 2s/step - loss: 0.0101 - accuracy: 0.5200 - val_loss: 0.0084 - val_accuracy: 0.4688\n",
      "Epoch 19/30\n",
      "36/36 [==============================] - 83s 2s/step - loss: 0.0068 - accuracy: 0.5183 - val_loss: 0.0097 - val_accuracy: 0.4549\n",
      "Epoch 20/30\n",
      "36/36 [==============================] - 84s 2s/step - loss: 0.0091 - accuracy: 0.5139 - val_loss: 0.0092 - val_accuracy: 0.4826\n",
      "Epoch 21/30\n",
      "36/36 [==============================] - 84s 2s/step - loss: 0.0070 - accuracy: 0.5157 - val_loss: 0.0091 - val_accuracy: 0.4549\n",
      "Epoch 22/30\n",
      "36/36 [==============================] - 84s 2s/step - loss: 0.0061 - accuracy: 0.5296 - val_loss: 0.0108 - val_accuracy: 0.4444\n",
      "Epoch 23/30\n",
      "36/36 [==============================] - 83s 2s/step - loss: 0.0066 - accuracy: 0.4809 - val_loss: 0.0090 - val_accuracy: 0.4340\n",
      "Epoch 24/30\n",
      "36/36 [==============================] - 84s 2s/step - loss: 0.0060 - accuracy: 0.4861 - val_loss: 0.0092 - val_accuracy: 0.4236\n",
      "Epoch 25/30\n",
      "36/36 [==============================] - 84s 2s/step - loss: 0.0071 - accuracy: 0.4626 - val_loss: 0.0099 - val_accuracy: 0.4167\n",
      "Epoch 26/30\n",
      "36/36 [==============================] - 84s 2s/step - loss: 0.0066 - accuracy: 0.5061 - val_loss: 0.0107 - val_accuracy: 0.4340\n",
      "Epoch 27/30\n",
      "36/36 [==============================] - 84s 2s/step - loss: 0.0069 - accuracy: 0.4939 - val_loss: 0.0135 - val_accuracy: 0.4271\n",
      "Epoch 28/30\n",
      "36/36 [==============================] - 84s 2s/step - loss: 0.0063 - accuracy: 0.4930 - val_loss: 0.0118 - val_accuracy: 0.4236\n",
      "Epoch 29/30\n",
      "36/36 [==============================] - 84s 2s/step - loss: 0.0045 - accuracy: 0.4843 - val_loss: 0.0113 - val_accuracy: 0.4306\n",
      "Epoch 30/30\n",
      "36/36 [==============================] - 83s 2s/step - loss: 0.0049 - accuracy: 0.5043 - val_loss: 0.0095 - val_accuracy: 0.4792\n"
     ]
    }
   ],
   "source": [
    "print(\"[NFO] compiling model...\")\n",
    "epochs=30\n",
    "opt = SGD(lr=1e-3, momentum=0.9, decay=1e-3 / epochs)\n",
    "model.compile(loss=\"binary_crossentropy\", optimizer=opt,\n",
    "    metrics=[\"accuracy\"])\n",
    "print(\"[INFO] training head...\")\n",
    "H = model.fit(\n",
    "    x=trainAug.flow(trainX, trainY, batch_size=32),\n",
    "    steps_per_epoch=len(trainX) // 32,\n",
    "    validation_data=valAug.flow(testX, testY),\n",
    "    validation_steps=len(testX) // 32,\n",
    "    epochs=epochs)"
   ]
  },
  {
   "cell_type": "code",
   "execution_count": null,
   "id": "f9c509c3",
   "metadata": {},
   "outputs": [],
   "source": [
    "print(\"[INFO] serializing network...\")\n",
    "model.save(\"model/activity.model\", save_format=\"h5\")\n",
    "f = open(\"output/lb.pickle\", \"wb\")\n",
    "f.write(pickle.dumps(lb))\n",
    "f.close()"
   ]
  },
  {
   "cell_type": "code",
   "execution_count": null,
   "id": "3ad77689",
   "metadata": {},
   "outputs": [],
   "source": [
    "N = 30\n",
    "plt.style.use(\"ggplot\")\n",
    "plt.figure()\n",
    "plt.plot(np.arange(0, N), H.history[\"loss\"], label=\"train_loss\")\n",
    "plt.plot(np.arange(0, N), H.history[\"val_loss\"], label=\"val_loss\")\n",
    "plt.plot(np.arange(0, N), H.history[\"accuracy\"], label=\"train_acc\")\n",
    "plt.plot(np.arange(0, N), H.history[\"val_accuracy\"], label=\"val_acc\")\n",
    "plt.title(\"Training Loss and Accuracy on Dataset\")\n",
    "plt.xlabel(\"Epoch #\")\n",
    "plt.ylabel(\"Loss/Accuracy\")\n",
    "plt.legend(loc=\"lower left\")\n",
    "plt.savefig(\"output/plot.png\")"
   ]
  },
  {
   "cell_type": "code",
   "execution_count": 30,
   "id": "2212412e",
   "metadata": {
    "scrolled": true
   },
   "outputs": [
    {
     "data": {
      "image/png": "[encoded data removed]",
      "text/plain": [
       "<IPython.core.display.Image object>"
      ]
     },
     "execution_count": 30,
     "metadata": {},
     "output_type": "execute_result"
    }
   ],
   "source": [
    "from IPython.display import Image\n",
    "Image(\"output/plot.png\")"
   ]
  },
  {
   "cell_type": "code",
   "execution_count": 27,
   "id": "3230ae1e",
   "metadata": {},
   "outputs": [
    {
     "name": "stdout",
     "output_type": "stream",
     "text": [
      "[INFO] evaluating network...\n",
      "10/10 [==============================] - 19s 2s/step\n"
     ]
    }
   ],
   "source": [
    "# evaluate the network\n",
    "from sklearn.metrics import confusion_matrix, classification_report\n",
    "model = load_model(\"model/activity.model\")\n",
    "lb = pickle.loads(open(\"output/lb.pickle\", \"rb\").read())\n",
    "\n",
    "print(\"[INFO] evaluating network...\")\n",
    "predictions = model.predict(x=testX.astype(\"float32\"), batch_size=32)\n",
    "confusion_matrix(testY.argmax(axis=1), predictions)\n"
   ]
  },
  {
   "cell_type": "code",
   "execution_count": 26,
   "id": "fd6b0128",
   "metadata": {},
   "outputs": [
    {
     "name": "stdout",
     "output_type": "stream",
     "text": [
      "\n",
      "Confusion Matrix :\n",
      "\n",
      "\n",
      "[[101  81]\n",
      " [ 38  76]]\n",
      "\n",
      "\n",
      "Classification Report : \n",
      "\n",
      "               precision    recall  f1-score   support\n",
      "\n",
      "           0       0.73      0.55      0.63       182\n",
      "           1       0.48      0.67      0.56       114\n",
      "\n",
      "    accuracy                           0.60       296\n",
      "   macro avg       0.61      0.61      0.60       296\n",
      "weighted avg       0.63      0.60      0.60       296\n",
      "\n"
     ]
    }
   ],
   "source": [
    "print('\\nConfusion Matrix :\\n\\n')\n",
    "print(confusion_matrix(testY, predictions.argmax(axis=1)))\n",
    "print('\\n\\nClassification Report : \\n\\n',classification_report(testY, predictions.argmax(axis=1)))"
   ]
  },
  {
   "cell_type": "code",
   "execution_count": 2,
   "id": "07a08d98",
   "metadata": {},
   "outputs": [
    {
     "name": "stderr",
     "output_type": "stream",
     "text": [
      "2022-06-09 11:15:56.317565: W tensorflow/stream_executor/platform/default/dso_loader.cc:64] Could not load dynamic library 'libcudart.so.11.0'; dlerror: libcudart.so.11.0: cannot open shared object file: No such file or directory\n",
      "2022-06-09 11:15:56.317601: I tensorflow/stream_executor/cuda/cudart_stub.cc:29] Ignore above cudart dlerror if you do not have a GPU set up on your machine.\n"
     ]
    }
   ],
   "source": [
    "from tensorflow.keras.models import load_model\n",
    "from collections import deque\n",
    "import numpy as np\n",
    "import argparse\n",
    "import pickle\n",
    "import cv2"
   ]
  },
  {
   "cell_type": "code",
   "execution_count": 3,
   "id": "28962c59",
   "metadata": {},
   "outputs": [
    {
     "name": "stdout",
     "output_type": "stream",
     "text": [
      "[INFO] loading model and label binarizer...\n"
     ]
    },
    {
     "name": "stderr",
     "output_type": "stream",
     "text": [
      "2022-06-09 11:16:12.970791: I tensorflow/stream_executor/cuda/cuda_gpu_executor.cc:975] successful NUMA node read from SysFS had negative value (-1), but there must be at least one NUMA node, so returning NUMA node zero\n",
      "2022-06-09 11:16:12.972192: W tensorflow/stream_executor/platform/default/dso_loader.cc:64] Could not load dynamic library 'libcudart.so.11.0'; dlerror: libcudart.so.11.0: cannot open shared object file: No such file or directory; LD_LIBRARY_PATH: /home/stiven/python/python/lib/python3.8/site-packages/cv2/../../lib64:\n",
      "2022-06-09 11:16:12.972347: W tensorflow/stream_executor/platform/default/dso_loader.cc:64] Could not load dynamic library 'libcublas.so.11'; dlerror: libcublas.so.11: cannot open shared object file: No such file or directory; LD_LIBRARY_PATH: /home/stiven/python/python/lib/python3.8/site-packages/cv2/../../lib64:\n",
      "2022-06-09 11:16:12.972472: W tensorflow/stream_executor/platform/default/dso_loader.cc:64] Could not load dynamic library 'libcublasLt.so.11'; dlerror: libcublasLt.so.11: cannot open shared object file: No such file or directory; LD_LIBRARY_PATH: /home/stiven/python/python/lib/python3.8/site-packages/cv2/../../lib64:\n",
      "2022-06-09 11:16:12.972593: W tensorflow/stream_executor/platform/default/dso_loader.cc:64] Could not load dynamic library 'libcufft.so.10'; dlerror: libcufft.so.10: cannot open shared object file: No such file or directory; LD_LIBRARY_PATH: /home/stiven/python/python/lib/python3.8/site-packages/cv2/../../lib64:\n",
      "2022-06-09 11:16:12.972713: W tensorflow/stream_executor/platform/default/dso_loader.cc:64] Could not load dynamic library 'libcurand.so.10'; dlerror: libcurand.so.10: cannot open shared object file: No such file or directory; LD_LIBRARY_PATH: /home/stiven/python/python/lib/python3.8/site-packages/cv2/../../lib64:\n",
      "2022-06-09 11:16:12.972837: W tensorflow/stream_executor/platform/default/dso_loader.cc:64] Could not load dynamic library 'libcusolver.so.11'; dlerror: libcusolver.so.11: cannot open shared object file: No such file or directory; LD_LIBRARY_PATH: /home/stiven/python/python/lib/python3.8/site-packages/cv2/../../lib64:\n",
      "2022-06-09 11:16:12.972958: W tensorflow/stream_executor/platform/default/dso_loader.cc:64] Could not load dynamic library 'libcusparse.so.11'; dlerror: libcusparse.so.11: cannot open shared object file: No such file or directory; LD_LIBRARY_PATH: /home/stiven/python/python/lib/python3.8/site-packages/cv2/../../lib64:\n",
      "2022-06-09 11:16:12.973080: W tensorflow/stream_executor/platform/default/dso_loader.cc:64] Could not load dynamic library 'libcudnn.so.8'; dlerror: libcudnn.so.8: cannot open shared object file: No such file or directory; LD_LIBRARY_PATH: /home/stiven/python/python/lib/python3.8/site-packages/cv2/../../lib64:\n",
      "2022-06-09 11:16:12.973096: W tensorflow/core/common_runtime/gpu/gpu_device.cc:1850] Cannot dlopen some GPU libraries. Please make sure the missing libraries mentioned above are installed properly if you would like to use GPU. Follow the guide at https://www.tensorflow.org/install/gpu for how to download and setup the required libraries for your platform.\n",
      "Skipping registering GPU devices...\n",
      "2022-06-09 11:16:12.980170: I tensorflow/core/platform/cpu_feature_guard.cc:193] This TensorFlow binary is optimized with oneAPI Deep Neural Network Library (oneDNN) to use the following CPU instructions in performance-critical operations:  AVX2 FMA\n",
      "To enable them in other operations, rebuild TensorFlow with the appropriate compiler flags.\n"
     ]
    }
   ],
   "source": [
    "print(\"[INFO] loading model and label binarizer...\")\n",
    "model = load_model(\"model/activity.model\")\n",
    "lb = pickle.loads(open(\"output/lb.pickle\", \"rb\").read())\n",
    "\n",
    "mean = np.array([123.68, 116.779, 103.939][::1], dtype=\"float32\")\n",
    "Q = deque(maxlen=1)"
   ]
  },
  {
   "cell_type": "markdown",
   "id": "e1b8487f",
   "metadata": {},
   "source": [
    "# Test del modelo "
   ]
  },
  {
   "cell_type": "code",
   "execution_count": 4,
   "id": "49ba0526",
   "metadata": {},
   "outputs": [
    {
     "name": "stdout",
     "output_type": "stream",
     "text": [
      "[INFO] cleaning up...\n"
     ]
    }
   ],
   "source": [
    "input_video = \"test/normal_2.mp4\"\n",
    "out_video = \"output/normal_2.mp4.avi\"\n",
    "vs = cv2.VideoCapture(input_video)\n",
    "writer = None\n",
    "(W, H) = (None, None)\n",
    "while True:\n",
    "    (grabbed, frame) = vs.read()\n",
    "    if not grabbed:\n",
    "        break\n",
    "    if W is None or H is None:\n",
    "        (H, W) = frame.shape[:2]\n",
    "    output = frame.copy()\n",
    "    frame = cv2.cvtColor(frame, cv2.COLOR_BGR2RGB)\n",
    "    frame = cv2.resize(frame, (224, 224)).astype(\"float32\")\n",
    "    frame -= mean\n",
    "    preds = model.predict(np.expand_dims(frame, axis=0), verbose=0)[0]\n",
    "    Q.append(preds)\n",
    "    results = np.array(Q).mean(axis=0)\n",
    "    i = np.argmax(results)\n",
    "    label = lb.classes_[i]\n",
    "    text = \"activity: {}\".format(label)\n",
    "    cv2.putText(output, text, (35, 50), cv2.FONT_HERSHEY_SIMPLEX,1.25, (0, 255, 0), 5)\n",
    "    if writer is None:\n",
    "        fourcc = cv2.VideoWriter_fourcc(*\"MJPG\")\n",
    "        writer = cv2.VideoWriter(out_video, fourcc, 30,(W, H), True)\n",
    "    writer.write(output)\n",
    "\n",
    "print(\"[INFO] cleaning up...\")\n",
    "writer.release()\n",
    "vs.release()"
   ]
  },
  {
   "cell_type": "code",
   "execution_count": null,
   "id": "fec1b315",
   "metadata": {},
   "outputs": [],
   "source": []
  }
 ],
 "metadata": {
  "kernelspec": {
   "display_name": "Python 3 (ipykernel)",
   "language": "python",
   "name": "python3"
  },
  "language_info": {
   "codemirror_mode": {
    "name": "ipython",
    "version": 3
   },
   "file_extension": ".py",
   "mimetype": "text/x-python",
   "name": "python",
   "nbconvert_exporter": "python",
   "pygments_lexer": "ipython3",
   "version": "3.8.10"
  }
 },
 "nbformat": 4,
 "nbformat_minor": 5
}
